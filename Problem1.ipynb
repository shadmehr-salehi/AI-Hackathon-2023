{
 "cells": [
  {
   "cell_type": "markdown",
   "metadata": {},
   "source": [
    "#### Repo : [Click Here](https://github.com/shadmehr-salehi/AI-Hackathon-2023)"
   ]
  },
  {
   "cell_type": "markdown",
   "metadata": {},
   "source": [
    "### Used Libraries"
   ]
  },
  {
   "cell_type": "code",
   "execution_count": 3,
   "metadata": {},
   "outputs": [],
   "source": [
    "import os\n",
    "import re\n",
    "import string\n",
    "import numpy as np\n",
    "from collections import Counter\n",
    "from collections import defaultdict\n",
    "from bs4 import BeautifulSoup"
   ]
  },
  {
   "cell_type": "markdown",
   "metadata": {},
   "source": [
    "### Query 1 \n"
   ]
  },
  {
   "cell_type": "code",
   "execution_count": 7,
   "metadata": {},
   "outputs": [
    {
     "name": "stdout",
     "output_type": "stream",
     "text": [
      "Unique Sources =  112\n"
     ]
    }
   ],
   "source": [
    "main_dir = 'D:/Final Heckathon/1/data'\n",
    "unique_sources = set()\n",
    "\n",
    "for date_dir in os.listdir(main_dir):\n",
    "    date_dir_path = os.path.join(main_dir, date_dir)\n",
    "    if os.path.isdir(date_dir_path):\n",
    "        for source_dir in os.listdir(date_dir_path):\n",
    "            source_dir_path = os.path.join(date_dir_path, source_dir)\n",
    "            if os.path.isdir(source_dir_path):\n",
    "                unique_sources.add(source_dir)\n",
    "                \n",
    "num_unique_sources = len(unique_sources)\n",
    "print(\"Unique Sources = \",num_unique_sources)"
   ]
  },
  {
   "cell_type": "markdown",
   "metadata": {},
   "source": [
    "### Query 2 "
   ]
  },
  {
   "cell_type": "code",
   "execution_count": 8,
   "metadata": {},
   "outputs": [
    {
     "name": "stdout",
     "output_type": "stream",
     "text": [
      "News : sharghdaily\n"
     ]
    }
   ],
   "source": [
    "source_total_counts = defaultdict(int)\n",
    "for date_dir in os.listdir(main_dir):\n",
    "    date_dir_path = os.path.join(main_dir, date_dir)\n",
    "    \n",
    "    if os.path.isdir(date_dir_path):\n",
    "        for source_dir in os.listdir(date_dir_path):\n",
    "            source_dir_path = os.path.join(date_dir_path, source_dir)\n",
    "            if os.path.isdir(source_dir_path):\n",
    "                html_files = [file for file in os.listdir(source_dir_path) if file.endswith(\".html\")]\n",
    "                num_html_files = len(html_files)\n",
    "                source_total_counts[source_dir] += num_html_files\n",
    "max_source = max(source_total_counts, key=source_total_counts.get)\n",
    "print(\"News :\", max_source)"
   ]
  },
  {
   "cell_type": "markdown",
   "metadata": {},
   "source": [
    "### Query 3 "
   ]
  },
  {
   "cell_type": "code",
   "execution_count": 42,
   "metadata": {},
   "outputs": [
    {
     "name": "stdout",
     "output_type": "stream",
     "text": [
      "Word: والیبال, Count: 398\n",
      "Word: کشتی, Count: 183\n",
      "Word: فوتبال, Count: 112\n"
     ]
    }
   ],
   "source": [
    "source_word_counts = defaultdict(lambda: defaultdict(int))\n",
    "exact_word_patterns = {\n",
    "    'والیبال': re.compile(r'\\bوالیبال\\b'),\n",
    "    'کشتی': re.compile(r'\\bکشتی\\b'),\n",
    "    'فوتبال': re.compile(r'\\bفوتبال\\b')\n",
    "}\n",
    "\n",
    "for date_dir in os.listdir(main_dir):\n",
    "    date_dir_path = os.path.join(main_dir, date_dir)\n",
    "    if os.path.isdir(date_dir_path):\n",
    "        for source_dir in os.listdir(date_dir_path):\n",
    "            source_dir_path = os.path.join(date_dir_path, source_dir)\n",
    "            \n",
    "            if os.path.isdir(source_dir_path) and source_dir == \"varzesh3\":\n",
    "                for html_file in os.listdir(source_dir_path):\n",
    "                    if html_file.endswith(\".html\"):\n",
    "                        html_file_path = os.path.join(source_dir_path, html_file)\n",
    "                        \n",
    "                        with open(html_file_path, 'r', encoding='utf-8') as f:\n",
    "                            html_content = f.read()\n",
    "                            \n",
    "                            soup = BeautifulSoup(html_content, 'html.parser')\n",
    "                            paragraphs = soup.find_all('p')\n",
    "                            \n",
    "                            for p in paragraphs:\n",
    "                                text = p.get_text()\n",
    "                                \n",
    "                                words = text.split()\n",
    "                                cleaned_words = [word for word in words if '\\u200C' not in word] # found this line is not useful thus you can remove it\n",
    "                                cleaned_text = ' '.join(cleaned_words)\n",
    "                                \n",
    "                                for word, pattern in exact_word_patterns.items():\n",
    "                                    match_count = len(re.findall(pattern, cleaned_text))\n",
    "                                    source_word_counts[source_dir][word] += match_count\n",
    "\n",
    "for source, word_count in source_word_counts.items():\n",
    "    for word, count in word_count.items():\n",
    "        print(f\"Word: {word}, Count: {count}\")"
   ]
  },
  {
   "cell_type": "markdown",
   "metadata": {},
   "source": [
    "### Query  4\n"
   ]
  },
  {
   "cell_type": "code",
   "execution_count": 43,
   "metadata": {},
   "outputs": [
    {
     "name": "stdout",
     "output_type": "stream",
     "text": [
      "Most repeated word: ایران\n"
     ]
    }
   ],
   "source": [
    "target_date_dir = '2023-08-01'\n",
    "stopwords_file = 'D:/Final Heckathon/1/data/stopwords.npy'\n",
    "stopwords = set(np.load(stopwords_file, allow_pickle=True))\n",
    "word_counter = Counter()\n",
    "date_dir_path = os.path.join(main_dir, target_date_dir)\n",
    "for news_source in os.listdir(date_dir_path):\n",
    "    news_source_dir_path = os.path.join(date_dir_path, news_source)\n",
    "    if os.path.isdir(news_source_dir_path):\n",
    "        for html_file in os.listdir(news_source_dir_path):\n",
    "            if html_file.endswith(\".html\"):\n",
    "                html_file_path = os.path.join(news_source_dir_path, html_file)\n",
    "                with open(html_file_path, 'r', encoding='utf-8') as f:\n",
    "                    html_content = f.read()\n",
    "                    soup = BeautifulSoup(html_content, 'html.parser')\n",
    "                    h2_tags = soup.find_all('h2')\n",
    "                    for h2 in h2_tags:\n",
    "                        text = h2.get_text()\n",
    "                        words = text.split()\n",
    "                        for word in words:\n",
    "                            if word not in stopwords:\n",
    "                                word_counter[word] += 1\n",
    "most_repeated_word = word_counter.most_common(1)[0][0]\n",
    "print(\"Most repeated word:\", most_repeated_word)"
   ]
  }
 ],
 "metadata": {
  "kernelspec": {
   "display_name": "Python 3",
   "language": "python",
   "name": "python3"
  },
  "language_info": {
   "codemirror_mode": {
    "name": "ipython",
    "version": 3
   },
   "file_extension": ".py",
   "mimetype": "text/x-python",
   "name": "python",
   "nbconvert_exporter": "python",
   "pygments_lexer": "ipython3",
   "version": "3.9.0"
  },
  "orig_nbformat": 4
 },
 "nbformat": 4,
 "nbformat_minor": 2
}
