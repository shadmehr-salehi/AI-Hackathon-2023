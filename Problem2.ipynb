{
 "cells": [
  {
   "cell_type": "markdown",
   "metadata": {},
   "source": [
    "#### Repo : [Click Here](https://github.com/shadmehr-salehi/AI-Hackathon-2023)"
   ]
  },
  {
   "cell_type": "markdown",
   "metadata": {},
   "source": [
    "### Used Libraries"
   ]
  },
  {
   "cell_type": "code",
   "execution_count": 2,
   "metadata": {},
   "outputs": [],
   "source": [
    "import pandas as pd\n",
    "import numpy as np\n",
    "import tensorflow as tf\n",
    "from sklearn.model_selection import train_test_split\n",
    "from sklearn.preprocessing import LabelEncoder\n",
    "from tensorflow.keras.preprocessing.text import Tokenizer\n",
    "from tensorflow.keras.preprocessing.sequence import pad_sequences\n",
    "from tensorflow.keras.models import Sequential\n",
    "from tensorflow.keras.layers import Embedding, Conv1D, GlobalMaxPooling1D, Dense\n",
    "from sklearn.metrics import accuracy_score , f1_score"
   ]
  },
  {
   "cell_type": "code",
   "execution_count": 4,
   "metadata": {},
   "outputs": [],
   "source": [
    "df_train = pd.read_csv('D:/Final Heckathon/2/train_data.csv')"
   ]
  },
  {
   "cell_type": "code",
   "execution_count": 5,
   "metadata": {},
   "outputs": [
    {
     "data": {
      "text/plain": [
       "title          0\n",
       "description    0\n",
       "tags           2\n",
       "dtype: int64"
      ]
     },
     "execution_count": 5,
     "metadata": {},
     "output_type": "execute_result"
    }
   ],
   "source": [
    "df_train.isna().sum()"
   ]
  },
  {
   "cell_type": "code",
   "execution_count": 7,
   "metadata": {},
   "outputs": [],
   "source": [
    "df_train.dropna(inplace=True)"
   ]
  },
  {
   "cell_type": "code",
   "execution_count": 8,
   "metadata": {},
   "outputs": [],
   "source": [
    "df_train['tags'] = df_train['tags'].str.replace('.*اقتصاد.*', 'اقتصادی', regex=True)\n",
    "df_train['tags'] = df_train['tags'].str.replace('.*اجتماع.*', 'اجتماعی', regex=True)\n",
    "df_train['tags'] = df_train['tags'].str.replace('.*استان.*', 'ایران_استانها', regex=True)\n",
    "df_train['tags'] = df_train['tags'].str.replace('.*ایران.*', 'ایران_استانها', regex=True)\n",
    "df_train['tags'] = df_train['tags'].str.replace('.*ايران.*', 'ایران_استانها', regex=True)\n",
    "df_train['tags'] = df_train['tags'].str.replace('.*ملل.*', 'بین الملل', regex=True)\n",
    "df_train['tags'] = df_train['tags'].str.replace('.*جهان.*', 'بین الملل', regex=True)\n",
    "df_train['tags'] = df_train['tags'].str.replace('.*آلمان.*', 'بین الملل', regex=True)\n",
    "df_train['tags'] = df_train['tags'].str.replace('.*سیاس.*', 'سیاسی', regex=True)\n",
    "df_train['tags'] = df_train['tags'].str.replace('.*ورزش.*', 'علمی_فرهنگی_ورزشی', regex=True)\n",
    "df_train['tags'] = df_train['tags'].str.replace('.*فرهنگ.*', 'علمی_فرهنگی_ورزشی', regex=True)\n",
    "df_train['tags'] = df_train['tags'].str.replace('.*علم.*', 'علمی_فرهنگی_ورزشی', regex=True)\n",
    "df_train['tags'] = df_train['tags'].str.replace('.*دانش و فناوری.*', 'علمی_فرهنگی_ورزشی', regex=True)\n",
    "df_train['tags'] = df_train['tags'].str.replace('.*رسانه ها.*', 'علمی_فرهنگی_ورزشی', regex=True)\n",
    "df_train['tags'] = df_train['tags'].str.replace('.*ایسنا.*', 'اجتماعی', regex=True)\n",
    "df_train['tags'] = df_train['tags'].str.replace('.*دانش و محیط زیست.*', 'علمی_فرهنگی_ورزشی', regex=True)\n",
    "df_train['tags'] = df_train['tags'].str.replace('.*بازار.*', 'اقتصادی', regex=True)"
   ]
  },
  {
   "cell_type": "code",
   "execution_count": 9,
   "metadata": {},
   "outputs": [],
   "source": [
    "names_to_drop = [\"علمی_فرهنگی_ورزشی\", \"سیاسی\", \"اقتصادی\", \"اجتماعی\", \"ایران_استانها\", \"بین الملل\"]\n",
    "df_train = df_train[df_train['tags'].isin(names_to_drop)]\n",
    "\n",
    "\n",
    "tags_num = []\n",
    "for row in df_train['tags']:\n",
    "    if (row == 'اقتصادی'):\n",
    "        tags_num.append(1)\n",
    "    elif ( row  == 'اجتماعی'):\n",
    "        tags_num.append(0)\n",
    "    elif (row == 'ایران_استانها'):\n",
    "        tags_num.append(2)\n",
    "    elif (row == 'بین الملل'):\n",
    "        tags_num.append(3)\n",
    "    elif (row == 'سیاسی'):\n",
    "        tags_num.append(4)\n",
    "    elif (row == 'علمی_فرهنگی_ورزشی'):\n",
    "        tags_num.append(5)\n",
    "\n",
    "df_train['tags_num'] = tags_num\n",
    "\n",
    "df_train.drop(['tags'], axis=1, inplace=True)"
   ]
  },
  {
   "cell_type": "code",
   "execution_count": 11,
   "metadata": {},
   "outputs": [],
   "source": [
    "df_train['text'] = df_train['title'] + ' ' + df_train['description']"
   ]
  },
  {
   "cell_type": "code",
   "execution_count": 13,
   "metadata": {},
   "outputs": [],
   "source": [
    "train_df, test_df = train_test_split(df_train, test_size=0.2, random_state=42)"
   ]
  },
  {
   "cell_type": "code",
   "execution_count": 15,
   "metadata": {},
   "outputs": [],
   "source": [
    "label_encoder = LabelEncoder()\n",
    "train_labels = label_encoder.fit_transform(train_df['tags_num'])\n",
    "test_labels = label_encoder.transform(test_df['tags_num'])"
   ]
  },
  {
   "cell_type": "code",
   "execution_count": 29,
   "metadata": {},
   "outputs": [],
   "source": [
    "max_words = 10000 \n",
    "max_sequence_length = 100 \n",
    "tokenizer = Tokenizer(num_words=max_words)\n",
    "tokenizer.fit_on_texts(train_df['text'])\n",
    "X_train_sequences = tokenizer.texts_to_sequences(train_df['text'])\n",
    "X_test_sequences = tokenizer.texts_to_sequences(test_df['text'])\n",
    "X_train = pad_sequences(X_train_sequences, maxlen=max_sequence_length)\n",
    "X_test = pad_sequences(X_test_sequences, maxlen=max_sequence_length)\n"
   ]
  },
  {
   "cell_type": "code",
   "execution_count": 39,
   "metadata": {},
   "outputs": [],
   "source": [
    "embedding_dim = 3500\n",
    "model = Sequential([\n",
    "    Embedding(max_words, embedding_dim, input_length=max_sequence_length),\n",
    "    Conv1D(256, 5, activation='relu'),\n",
    "    GlobalMaxPooling1D(),\n",
    "    Dense(256, activation='relu'),\n",
    "    Dense(128, activation='relu'),\n",
    "    Dense(len(label_encoder.classes_), activation='softmax')\n",
    "])"
   ]
  },
  {
   "cell_type": "code",
   "execution_count": 40,
   "metadata": {},
   "outputs": [],
   "source": [
    "model.compile(loss='sparse_categorical_crossentropy', optimizer='adam', metrics=['accuracy'])"
   ]
  },
  {
   "cell_type": "code",
   "execution_count": 41,
   "metadata": {},
   "outputs": [
    {
     "name": "stdout",
     "output_type": "stream",
     "text": [
      "Epoch 1/10\n",
      "235/235 [==============================] - 16s 61ms/step - loss: 0.6730 - accuracy: 0.7625 - val_loss: 0.4663 - val_accuracy: 0.8216\n",
      "Epoch 2/10\n",
      "235/235 [==============================] - 14s 60ms/step - loss: 0.1648 - accuracy: 0.9487 - val_loss: 0.4889 - val_accuracy: 0.8539\n",
      "Epoch 3/10\n",
      "235/235 [==============================] - 14s 61ms/step - loss: 0.0264 - accuracy: 0.9927 - val_loss: 0.6242 - val_accuracy: 0.8515\n",
      "Epoch 4/10\n",
      "235/235 [==============================] - 14s 61ms/step - loss: 0.0261 - accuracy: 0.9916 - val_loss: 0.5662 - val_accuracy: 0.8659\n",
      "Epoch 5/10\n",
      "235/235 [==============================] - 14s 60ms/step - loss: 0.0173 - accuracy: 0.9952 - val_loss: 0.9054 - val_accuracy: 0.8251\n",
      "Epoch 6/10\n",
      "235/235 [==============================] - 14s 60ms/step - loss: 0.0697 - accuracy: 0.9813 - val_loss: 0.7714 - val_accuracy: 0.8335\n",
      "Epoch 7/10\n",
      "235/235 [==============================] - 14s 61ms/step - loss: 0.0138 - accuracy: 0.9963 - val_loss: 0.9114 - val_accuracy: 0.8335\n",
      "Epoch 8/10\n",
      "235/235 [==============================] - 14s 60ms/step - loss: 0.0116 - accuracy: 0.9964 - val_loss: 0.9219 - val_accuracy: 0.8443\n",
      "Epoch 9/10\n",
      "235/235 [==============================] - 14s 60ms/step - loss: 0.0472 - accuracy: 0.9840 - val_loss: 0.9422 - val_accuracy: 0.8467\n",
      "Epoch 10/10\n",
      "235/235 [==============================] - 14s 61ms/step - loss: 0.0400 - accuracy: 0.9869 - val_loss: 0.8103 - val_accuracy: 0.8395\n"
     ]
    },
    {
     "data": {
      "text/plain": [
       "<keras.callbacks.History at 0x1ebc8e3f6d0>"
      ]
     },
     "execution_count": 41,
     "metadata": {},
     "output_type": "execute_result"
    }
   ],
   "source": [
    "model.fit(X_train, train_labels, epochs=10, validation_split=0.1)"
   ]
  },
  {
   "cell_type": "code",
   "execution_count": 43,
   "metadata": {},
   "outputs": [
    {
     "name": "stdout",
     "output_type": "stream",
     "text": [
      "F1 Score: 0.8448822540465144\n"
     ]
    }
   ],
   "source": [
    "predictions = model.predict(X_test)\n",
    "predicted_labels = np.argmax(predictions, axis=1)\n",
    "accuracy = f1_score(test_labels, predicted_labels , average='weighted')\n",
    "print(\"F1 Score:\", accuracy)"
   ]
  }
 ],
 "metadata": {
  "kernelspec": {
   "display_name": "Python 3",
   "language": "python",
   "name": "python3"
  },
  "language_info": {
   "codemirror_mode": {
    "name": "ipython",
    "version": 3
   },
   "file_extension": ".py",
   "mimetype": "text/x-python",
   "name": "python",
   "nbconvert_exporter": "python",
   "pygments_lexer": "ipython3",
   "version": "3.9.0"
  },
  "orig_nbformat": 4
 },
 "nbformat": 4,
 "nbformat_minor": 2
}
